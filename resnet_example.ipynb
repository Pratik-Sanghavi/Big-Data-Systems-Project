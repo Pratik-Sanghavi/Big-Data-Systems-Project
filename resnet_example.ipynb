{
 "cells": [
  {
   "cell_type": "markdown",
   "metadata": {},
   "source": [
    "# ResNet Example"
   ]
  },
  {
   "cell_type": "code",
   "execution_count": 3,
   "metadata": {},
   "outputs": [
    {
     "name": "stdin",
     "output_type": "stream",
     "text": [
      "\n",
      "Enter path for SNPE_ROOT := \n",
      " ./\n"
     ]
    },
    {
     "name": "stderr",
     "output_type": "stream",
     "text": [
      "ic| SNPE_ROOT: '.'\n",
      "ic| ONNX_DIR: ('C:\\\\Users\\\\Pratik Sanghavi\\\\Desktop\\\\UW Madison\\\\Sem II\\\\CS744 Big Data '\n",
      "               'Systems\\\\Project\\\\Code\\\\project_venv\\\\Lib\\\\site-packages\\\\onnx\\\\__init__.py')\n",
      "ic| updated_pythonpath: '.\\\\lib\\\\python'\n",
      "ic| updated_path: ('C:\\\\Users\\\\Pratik Sanghavi\\\\Desktop\\\\UW Madison\\\\Sem II\\\\CS744 Big Data '\n",
      "                   'Systems\\\\Project\\\\Code\\\\project_venv\\\\Scripts;c:\\\\Users\\\\Pratik '\n",
      "                   'Sanghavi\\\\.vscode\\\\extensions\\\\ms-python.python-2024.2.1\\\\pythonFiles\\\\deactivate\\\\powershell;C:\\\\Users\\\\Pratik '\n",
      "                   'Sanghavi\\\\Desktop\\\\UW Madison\\\\Sem II\\\\CS744 Big Data '\n",
      "                   'Systems\\\\Project\\\\Code\\\\project_venv\\\\Scripts;C:\\\\Users\\\\Pratik '\n",
      "                   'Sanghavi\\\\miniconda3\\\\condabin;c:\\\\Users\\\\Pratik '\n",
      "                   'Sanghavi\\\\.vscode\\\\extensions\\\\ms-python.python-2024.2.1\\\\pythonFiles\\\\deactivate\\\\powershell;C:\\\\Users\\\\Pratik '\n",
      "                   'Sanghavi\\\\Desktop\\\\UW Madison\\\\Sem II\\\\CS744 Big Data '\n",
      "                   'Systems\\\\Project\\\\Code\\\\project_venv\\\\Scripts;C:\\\\Program Files\\\\NVIDIA GPU '\n",
      "                   'Computing Toolkit\\\\CUDA\\\\v11.8\\\\bin;C:\\\\Program Files\\\\NVIDIA GPU Computing '\n",
      "                   'Toolkit\\\\CUDA\\\\v11.8\\\\libnvvp;C:\\\\Program Files\\\\NVIDIA GPU Computing '\n",
      "                   'Toolkit\\\\CUDA\\\\v11.0\\\\bin;C:\\\\Program Files\\\\NVIDIA GPU Computing '\n",
      "                   'Toolkit\\\\CUDA\\\\v11.0\\\\libnvvp;C:\\\\Program Files\\\\Common '\n",
      "                   'Files\\\\Oracle\\\\Java\\\\javapath;C:\\\\Program Files (x86)\\\\Common '\n",
      "                   'Files\\\\Oracle\\\\Java\\\\javapath;C:\\\\Python311\\\\Scripts;C:\\\\Python311;C:\\\\Windows\\\\system32;C:\\\\Windows;C:\\\\Windows\\\\System32\\\\Wbem;C:\\\\Windows\\\\System32\\\\WindowsPowerShell\\\\v1.0;C:\\\\Windows\\\\System32\\\\OpenSSH;C:\\\\Program '\n",
      "                   'Files\\\\Microsoft SQL Server\\\\130\\\\Tools\\\\Binn;C:\\\\Program Files\\\\Microsoft '\n",
      "                   'SQL Server\\\\Client SDK\\\\ODBC\\\\170\\\\Tools\\\\Binn;C:\\\\Program '\n",
      "                   'Files\\\\Git\\\\cmd;C:\\\\Program Files\\\\NVIDIA Corporation\\\\NVIDIA '\n",
      "                   'NvDLISR;C:\\\\Program Files\\\\Graphviz\\\\bin;C:\\\\Program '\n",
      "                   'Files\\\\dotnet;C:\\\\WINDOWS\\\\system32;C:\\\\WINDOWS;C:\\\\WINDOWS\\\\System32\\\\Wbem;C:\\\\WINDOWS\\\\System32\\\\WindowsPowerShell\\\\v1.0;C:\\\\WINDOWS\\\\System32\\\\OpenSSH;C:\\\\ProgramData\\\\chocolatey\\\\bin;C:\\\n",
      "                  vm;C:\\\\Program '\n",
      "                   'Files\\\n",
      "                  odejs;C:\\\\Program Files (x86)\\\\NVIDIA '\n",
      "                   'Corporation\\\\PhysX\\\\Common;C:\\\\Program Files\\\\NVIDIA Corporation\\\\Nsight '\n",
      "                   'Compute 2022.3.0;C:\\\\Program Files\\\\MySQL\\\\MySQL Shell '\n",
      "                   '8.0\\\\bin;C:\\\\Users\\\\Pratik '\n",
      "                   'Sanghavi\\\\AppData\\\\Local\\\\Microsoft\\\\WindowsApps;C:\\\\Users\\\\Pratik '\n",
      "                   'Sanghavi\\\\AppData\\\\Local\\\\Programs\\\\Microsoft VS Code\\\\bin;C:\\\\Program '\n",
      "                   'Files\\\\mingw64\\\\bin;C:\\\\Program Files\\\\NVIDIA GPU Computing '\n",
      "                   'Toolkit\\\\CUDA\\\\v11.2\\\\bin;C:\\\\Program Files\\\\NVIDIA GPU Computing '\n",
      "                   'Toolkit\\\\CUDA\\\\v11.2\\\\libnvvp;C:\\\\Users\\\\Pratik '\n",
      "                   'Sanghavi\\\\AppData\\\\Local\\\\Programs\\\\Python\\\\Python310\\\\Lib\\\\site-packages\\\\graphviz\\\\dot.py;C:\\\\Program '\n",
      "                   'Files\\\\Graphviz\\\\bin;C:\\\\Program Files\\\\JetBrains\\\\PyCharm '\n",
      "                   '2021.3.3\\\\bin;.;C:\\\\Users\\\\Pratik Sanghavi\\\\.dotnet\\\\tools;C:\\\\Users\\\\Pratik '\n",
      "                   'Sanghavi\\\\ffmpeg\\\\bin;C:\\\n",
      "                  vm;C:\\\\Program Files\\\n",
      "                  odejs;C:\\\\Users\\\\Pratik '\n",
      "                   'Sanghavi\\\\miniconda3\\\\Scripts;.;.\\\\bin\\\\x86_64-windows-msvc')\n",
      "ic| updated_ld_lib_path: ('C:\\\\Users\\\\Pratik Sanghavi\\\\Desktop\\\\UW Madison\\\\Sem II\\\\CS744 Big Data '\n",
      "                          'Systems\\\\Project\\\\Code\\\\project_venv\\\\Scripts;c:\\\\Users\\\\Pratik '\n",
      "                          'Sanghavi\\\\.vscode\\\\extensions\\\\ms-python.python-2024.2.1\\\\pythonFiles\\\\deactivate\\\\powershell;C:\\\\Users\\\\Pratik '\n",
      "                          'Sanghavi\\\\Desktop\\\\UW Madison\\\\Sem II\\\\CS744 Big Data '\n",
      "                          'Systems\\\\Project\\\\Code\\\\project_venv\\\\Scripts;C:\\\\Users\\\\Pratik '\n",
      "                          'Sanghavi\\\\miniconda3\\\\condabin;c:\\\\Users\\\\Pratik '\n",
      "                          'Sanghavi\\\\.vscode\\\\extensions\\\\ms-python.python-2024.2.1\\\\pythonFiles\\\\deactivate\\\\powershell;C:\\\\Users\\\\Pratik '\n",
      "                          'Sanghavi\\\\Desktop\\\\UW Madison\\\\Sem II\\\\CS744 Big Data '\n",
      "                          'Systems\\\\Project\\\\Code\\\\project_venv\\\\Scripts;C:\\\\Program Files\\\\NVIDIA GPU '\n",
      "                          'Computing Toolkit\\\\CUDA\\\\v11.8\\\\bin;C:\\\\Program Files\\\\NVIDIA GPU Computing '\n",
      "                          'Toolkit\\\\CUDA\\\\v11.8\\\\libnvvp;C:\\\\Program Files\\\\NVIDIA GPU Computing '\n",
      "                          'Toolkit\\\\CUDA\\\\v11.0\\\\bin;C:\\\\Program Files\\\\NVIDIA GPU Computing '\n",
      "                          'Toolkit\\\\CUDA\\\\v11.0\\\\libnvvp;C:\\\\Program Files\\\\Common '\n",
      "                          'Files\\\\Oracle\\\\Java\\\\javapath;C:\\\\Program Files (x86)\\\\Common '\n",
      "                          'Files\\\\Oracle\\\\Java\\\\javapath;C:\\\\Python311\\\\Scripts;C:\\\\Python311;C:\\\\Windows\\\\system32;C:\\\\Windows;C:\\\\Windows\\\\System32\\\\Wbem;C:\\\\Windows\\\\System32\\\\WindowsPowerShell\\\\v1.0;C:\\\\Windows\\\\System32\\\\OpenSSH;C:\\\\Program '\n",
      "                          'Files\\\\Microsoft SQL Server\\\\130\\\\Tools\\\\Binn;C:\\\\Program Files\\\\Microsoft '\n",
      "                          'SQL Server\\\\Client SDK\\\\ODBC\\\\170\\\\Tools\\\\Binn;C:\\\\Program '\n",
      "                          'Files\\\\Git\\\\cmd;C:\\\\Program Files\\\\NVIDIA Corporation\\\\NVIDIA '\n",
      "                          'NvDLISR;C:\\\\Program Files\\\\Graphviz\\\\bin;C:\\\\Program '\n",
      "                          'Files\\\\dotnet;C:\\\\WINDOWS\\\\system32;C:\\\\WINDOWS;C:\\\\WINDOWS\\\\System32\\\\Wbem;C:\\\\WINDOWS\\\\System32\\\\WindowsPowerShell\\\\v1.0;C:\\\\WINDOWS\\\\System32\\\\OpenSSH;C:\\\\ProgramData\\\\chocolatey\\\\bin;C:\\\n",
      "                         vm;C:\\\\Program '\n",
      "                          'Files\\\n",
      "                         odejs;C:\\\\Program Files (x86)\\\\NVIDIA '\n",
      "                          'Corporation\\\\PhysX\\\\Common;C:\\\\Program Files\\\\NVIDIA Corporation\\\\Nsight '\n",
      "                          'Compute 2022.3.0;C:\\\\Program Files\\\\MySQL\\\\MySQL Shell '\n",
      "                          '8.0\\\\bin;C:\\\\Users\\\\Pratik '\n",
      "                          'Sanghavi\\\\AppData\\\\Local\\\\Microsoft\\\\WindowsApps;C:\\\\Users\\\\Pratik '\n",
      "                          'Sanghavi\\\\AppData\\\\Local\\\\Programs\\\\Microsoft VS Code\\\\bin;C:\\\\Program '\n",
      "                          'Files\\\\mingw64\\\\bin;C:\\\\Program Files\\\\NVIDIA GPU Computing '\n",
      "                          'Toolkit\\\\CUDA\\\\v11.2\\\\bin;C:\\\\Program Files\\\\NVIDIA GPU Computing '\n",
      "                          'Toolkit\\\\CUDA\\\\v11.2\\\\libnvvp;C:\\\\Users\\\\Pratik '\n",
      "                          'Sanghavi\\\\AppData\\\\Local\\\\Programs\\\\Python\\\\Python310\\\\Lib\\\\site-packages\\\\graphviz\\\\dot.py;C:\\\\Program '\n",
      "                          'Files\\\\Graphviz\\\\bin;C:\\\\Program Files\\\\JetBrains\\\\PyCharm '\n",
      "                          '2021.3.3\\\\bin;.;C:\\\\Users\\\\Pratik Sanghavi\\\\.dotnet\\\\tools;C:\\\\Users\\\\Pratik '\n",
      "                          'Sanghavi\\\\ffmpeg\\\\bin;C:\\\n",
      "                         vm;C:\\\\Program Files\\\n",
      "                         odejs;C:\\\\Users\\\\Pratik '\n",
      "                          'Sanghavi\\\\miniconda3\\\\Scripts;.;.\\\\bin\\\\x86_64-windows-msvc:.\\\\lib\\\\x86_64-windows-msvc')\n",
      "ERROR - Not able to get SNPE version using cmd : 'snpe-net-run --version' \n"
     ]
    },
    {
     "ename": "TypeError",
     "evalue": "expected string or bytes-like object, got 'NoneType'",
     "output_type": "error",
     "traceback": [
      "\u001b[1;31m---------------------------------------------------------------------------\u001b[0m",
      "\u001b[1;31mTypeError\u001b[0m                                 Traceback (most recent call last)",
      "Cell \u001b[1;32mIn[3], line 8\u001b[0m\n\u001b[0;32m      6\u001b[0m \u001b[38;5;28;01mimport\u001b[39;00m \u001b[38;5;21;01mrequests\u001b[39;00m\n\u001b[0;32m      7\u001b[0m \u001b[38;5;28;01mimport\u001b[39;00m \u001b[38;5;21;01mmatplotlib\u001b[39;00m\u001b[38;5;21;01m.\u001b[39;00m\u001b[38;5;21;01mpyplot\u001b[39;00m \u001b[38;5;28;01mas\u001b[39;00m \u001b[38;5;21;01mplt\u001b[39;00m\n\u001b[1;32m----> 8\u001b[0m \u001b[38;5;28;01mfrom\u001b[39;00m \u001b[38;5;21;01mpysnpe_utils\u001b[39;00m \u001b[38;5;28;01mimport\u001b[39;00m pysnpe\n\u001b[0;32m      9\u001b[0m \u001b[38;5;28;01mfrom\u001b[39;00m \u001b[38;5;21;01mpysnpe_utils\u001b[39;00m\u001b[38;5;21;01m.\u001b[39;00m\u001b[38;5;21;01mpysnpe_enums\u001b[39;00m \u001b[38;5;28;01mimport\u001b[39;00m \u001b[38;5;241m*\u001b[39m\n\u001b[0;32m     11\u001b[0m \u001b[38;5;28;01mimport\u001b[39;00m \u001b[38;5;21;01mwarnings\u001b[39;00m\n",
      "File \u001b[1;32m~\\Desktop\\UW Madison\\Sem II\\CS744 Big Data Systems\\Project\\Code\\project_venv\\Lib\\site-packages\\pysnpe_utils\\pysnpe.py:17\u001b[0m\n\u001b[0;32m     15\u001b[0m \u001b[38;5;66;03m# Pysnpe Module imports\u001b[39;00m\n\u001b[0;32m     16\u001b[0m \u001b[38;5;28;01mfrom\u001b[39;00m \u001b[38;5;21;01m.\u001b[39;00m\u001b[38;5;21;01mlogger_config\u001b[39;00m \u001b[38;5;28;01mimport\u001b[39;00m logger, set_logging_level\n\u001b[1;32m---> 17\u001b[0m \u001b[38;5;28;01mfrom\u001b[39;00m \u001b[38;5;21;01m.\u001b[39;00m\u001b[38;5;21;01mdlc_generator\u001b[39;00m \u001b[38;5;28;01mimport\u001b[39;00m snpe_onnx_to_dlc, snpe_tensorflow_to_dlc, snpe_dlc_graph_prepare\n\u001b[0;32m     18\u001b[0m \u001b[38;5;28;01mfrom\u001b[39;00m \u001b[38;5;21;01m.\u001b[39;00m\u001b[38;5;21;01mdlc_generator\u001b[39;00m \u001b[38;5;28;01mimport\u001b[39;00m snpe_pytorch_to_dlc, snpe_tflite_to_dlc, snpe_dlc_quant\n\u001b[0;32m     19\u001b[0m \u001b[38;5;28;01mfrom\u001b[39;00m \u001b[38;5;21;01m.\u001b[39;00m\u001b[38;5;21;01mdlc_generator\u001b[39;00m \u001b[38;5;28;01mimport\u001b[39;00m snpe_dlc_viewer, snpe_throughput_net_run_via_adb, snpe_throughput_net_run_on_host\n",
      "File \u001b[1;32m~\\Desktop\\UW Madison\\Sem II\\CS744 Big Data Systems\\Project\\Code\\project_venv\\Lib\\site-packages\\pysnpe_utils\\dlc_generator.py:19\u001b[0m\n\u001b[0;32m     15\u001b[0m \u001b[38;5;28;01mfrom\u001b[39;00m \u001b[38;5;21;01m.\u001b[39;00m\u001b[38;5;21;01mexec_utils\u001b[39;00m \u001b[38;5;28;01mimport\u001b[39;00m exec_shell_cmd, exec_shell_cmd_multiprocess, get_host_type\n\u001b[0;32m     16\u001b[0m \u001b[38;5;28;01mfrom\u001b[39;00m \u001b[38;5;21;01m.\u001b[39;00m\u001b[38;5;21;01menv_setup_checker\u001b[39;00m \u001b[38;5;28;01mimport\u001b[39;00m SnpeEnv\n\u001b[1;32m---> 19\u001b[0m SNPE_ROOT \u001b[38;5;241m=\u001b[39m \u001b[43mSnpeEnv\u001b[49m\u001b[43m(\u001b[49m\u001b[43m)\u001b[49m\u001b[38;5;241m.\u001b[39mSNPE_ROOT \n\u001b[0;32m     20\u001b[0m ic(SNPE_ROOT)\n\u001b[0;32m     23\u001b[0m \u001b[38;5;28;01mdef\u001b[39;00m \u001b[38;5;21mdimension_as_str\u001b[39m(dimension_list: Tuple[\u001b[38;5;28mint\u001b[39m]) \u001b[38;5;241m-\u001b[39m\u001b[38;5;241m>\u001b[39m \u001b[38;5;28mstr\u001b[39m:\n\u001b[0;32m     24\u001b[0m     \u001b[38;5;66;03m# Replace None shape with 1\u001b[39;00m\n",
      "File \u001b[1;32m~\\Desktop\\UW Madison\\Sem II\\CS744 Big Data Systems\\Project\\Code\\project_venv\\Lib\\site-packages\\pysnpe_utils\\env_setup_checker.py:155\u001b[0m, in \u001b[0;36mSnpeEnv.__init__\u001b[1;34m(self)\u001b[0m\n\u001b[0;32m    154\u001b[0m \u001b[38;5;28;01mdef\u001b[39;00m \u001b[38;5;21m__init__\u001b[39m(\u001b[38;5;28mself\u001b[39m):\n\u001b[1;32m--> 155\u001b[0m     \u001b[43mdo_sanity_checks\u001b[49m\u001b[43m(\u001b[49m\u001b[43m)\u001b[49m\n\u001b[0;32m    156\u001b[0m     set_sanity_checks_passed()\n",
      "File \u001b[1;32m~\\Desktop\\UW Madison\\Sem II\\CS744 Big Data Systems\\Project\\Code\\project_venv\\Lib\\site-packages\\pysnpe_utils\\env_setup_checker.py:168\u001b[0m, in \u001b[0;36mdo_sanity_checks\u001b[1;34m()\u001b[0m\n\u001b[0;32m    166\u001b[0m \u001b[38;5;28;01mdef\u001b[39;00m \u001b[38;5;21mdo_sanity_checks\u001b[39m():\n\u001b[0;32m    167\u001b[0m     \u001b[38;5;66;03m# Perform sanity checks\u001b[39;00m\n\u001b[1;32m--> 168\u001b[0m     \u001b[43mcheck_python_version\u001b[49m\u001b[43m(\u001b[49m\u001b[43m)\u001b[49m\n",
      "File \u001b[1;32m~\\Desktop\\UW Madison\\Sem II\\CS744 Big Data Systems\\Project\\Code\\project_venv\\Lib\\site-packages\\pysnpe_utils\\env_setup_checker.py:83\u001b[0m, in \u001b[0;36mcheck_python_version\u001b[1;34m()\u001b[0m\n\u001b[0;32m     80\u001b[0m python_version \u001b[38;5;241m=\u001b[39m sys\u001b[38;5;241m.\u001b[39mversion_info\n\u001b[0;32m     81\u001b[0m snpe_version \u001b[38;5;241m=\u001b[39m get_snpe_version()\n\u001b[1;32m---> 83\u001b[0m \u001b[38;5;28;01mif\u001b[39;00m \u001b[43mversion\u001b[49m\u001b[38;5;241;43m.\u001b[39;49m\u001b[43mparse\u001b[49m\u001b[43m(\u001b[49m\u001b[43msnpe_version\u001b[49m\u001b[43m)\u001b[49m \u001b[38;5;241m<\u001b[39m\u001b[38;5;241m=\u001b[39m version\u001b[38;5;241m.\u001b[39mparse(\u001b[38;5;124m\"\u001b[39m\u001b[38;5;124mv2.10\u001b[39m\u001b[38;5;124m\"\u001b[39m):\n\u001b[0;32m     84\u001b[0m     \u001b[38;5;28;01mif\u001b[39;00m \u001b[38;5;129;01mnot\u001b[39;00m (python_version[\u001b[38;5;241m0\u001b[39m] \u001b[38;5;241m==\u001b[39m \u001b[38;5;241m3\u001b[39m \u001b[38;5;129;01mand\u001b[39;00m python_version[\u001b[38;5;241m1\u001b[39m] \u001b[38;5;241m==\u001b[39m \u001b[38;5;241m6\u001b[39m):\n\u001b[0;32m     85\u001b[0m         logger\u001b[38;5;241m.\u001b[39mwarning(\u001b[38;5;124m'\u001b[39m\u001b[38;5;124mSNPE Converters : unsupported Python version: \u001b[39m\u001b[38;5;132;01m{}\u001b[39;00m\u001b[38;5;124m'\u001b[39m\u001b[38;5;241m.\u001b[39mformat(python_version), \n\u001b[0;32m     86\u001b[0m                         \u001b[38;5;124m'\u001b[39m\u001b[38;5;124mtill SNPE-2.10, expected Python version == 3.6\u001b[39m\u001b[38;5;124m'\u001b[39m)\n",
      "File \u001b[1;32m~\\Desktop\\UW Madison\\Sem II\\CS744 Big Data Systems\\Project\\Code\\project_venv\\Lib\\site-packages\\packaging\\version.py:54\u001b[0m, in \u001b[0;36mparse\u001b[1;34m(version)\u001b[0m\n\u001b[0;32m     45\u001b[0m \u001b[38;5;28;01mdef\u001b[39;00m \u001b[38;5;21mparse\u001b[39m(version: \u001b[38;5;28mstr\u001b[39m) \u001b[38;5;241m-\u001b[39m\u001b[38;5;241m>\u001b[39m \u001b[38;5;124m\"\u001b[39m\u001b[38;5;124mVersion\u001b[39m\u001b[38;5;124m\"\u001b[39m:\n\u001b[0;32m     46\u001b[0m \u001b[38;5;250m    \u001b[39m\u001b[38;5;124;03m\"\"\"Parse the given version string.\u001b[39;00m\n\u001b[0;32m     47\u001b[0m \n\u001b[0;32m     48\u001b[0m \u001b[38;5;124;03m    >>> parse('1.0.dev1')\u001b[39;00m\n\u001b[1;32m   (...)\u001b[0m\n\u001b[0;32m     52\u001b[0m \u001b[38;5;124;03m    :raises InvalidVersion: When the version string is not a valid version.\u001b[39;00m\n\u001b[0;32m     53\u001b[0m \u001b[38;5;124;03m    \"\"\"\u001b[39;00m\n\u001b[1;32m---> 54\u001b[0m     \u001b[38;5;28;01mreturn\u001b[39;00m \u001b[43mVersion\u001b[49m\u001b[43m(\u001b[49m\u001b[43mversion\u001b[49m\u001b[43m)\u001b[49m\n",
      "File \u001b[1;32m~\\Desktop\\UW Madison\\Sem II\\CS744 Big Data Systems\\Project\\Code\\project_venv\\Lib\\site-packages\\packaging\\version.py:198\u001b[0m, in \u001b[0;36mVersion.__init__\u001b[1;34m(self, version)\u001b[0m\n\u001b[0;32m    187\u001b[0m \u001b[38;5;250m\u001b[39m\u001b[38;5;124;03m\"\"\"Initialize a Version object.\u001b[39;00m\n\u001b[0;32m    188\u001b[0m \n\u001b[0;32m    189\u001b[0m \u001b[38;5;124;03m:param version:\u001b[39;00m\n\u001b[1;32m   (...)\u001b[0m\n\u001b[0;32m    194\u001b[0m \u001b[38;5;124;03m    exception will be raised.\u001b[39;00m\n\u001b[0;32m    195\u001b[0m \u001b[38;5;124;03m\"\"\"\u001b[39;00m\n\u001b[0;32m    197\u001b[0m \u001b[38;5;66;03m# Validate the version and parse it into pieces\u001b[39;00m\n\u001b[1;32m--> 198\u001b[0m match \u001b[38;5;241m=\u001b[39m \u001b[38;5;28;43mself\u001b[39;49m\u001b[38;5;241;43m.\u001b[39;49m\u001b[43m_regex\u001b[49m\u001b[38;5;241;43m.\u001b[39;49m\u001b[43msearch\u001b[49m\u001b[43m(\u001b[49m\u001b[43mversion\u001b[49m\u001b[43m)\u001b[49m\n\u001b[0;32m    199\u001b[0m \u001b[38;5;28;01mif\u001b[39;00m \u001b[38;5;129;01mnot\u001b[39;00m match:\n\u001b[0;32m    200\u001b[0m     \u001b[38;5;28;01mraise\u001b[39;00m InvalidVersion(\u001b[38;5;124mf\u001b[39m\u001b[38;5;124m\"\u001b[39m\u001b[38;5;124mInvalid version: \u001b[39m\u001b[38;5;124m'\u001b[39m\u001b[38;5;132;01m{\u001b[39;00mversion\u001b[38;5;132;01m}\u001b[39;00m\u001b[38;5;124m'\u001b[39m\u001b[38;5;124m\"\u001b[39m)\n",
      "\u001b[1;31mTypeError\u001b[0m: expected string or bytes-like object, got 'NoneType'"
     ]
    }
   ],
   "source": [
    "import torch\n",
    "from PIL import Image\n",
    "import torchvision.transforms as transforms\n",
    "import numpy as np\n",
    "import json\n",
    "import requests\n",
    "import matplotlib.pyplot as plt\n",
    "from pysnpe_utils import pysnpe\n",
    "from pysnpe_utils.pysnpe_enums import *\n",
    "\n",
    "import warnings\n",
    "warnings.filterwarnings('ignore')"
   ]
  },
  {
   "cell_type": "code",
   "execution_count": null,
   "metadata": {},
   "outputs": [],
   "source": [
    "device = torch.device(\"cpu\")\n",
    "print(f'Using {device} for inference')"
   ]
  },
  {
   "cell_type": "code",
   "execution_count": null,
   "metadata": {},
   "outputs": [],
   "source": [
    "resnet50 = torch.hub.load('NVIDIA/DeepLearningExamples:torchhub', 'nvidia_resnet50', pretrained=True)\n",
    "utils = torch.hub.load('NVIDIA/DeepLearningExamples:torchhub', 'nvidia_convnets_processing_utils')\n",
    "\n",
    "resnet50.eval().to(device)"
   ]
  },
  {
   "cell_type": "code",
   "execution_count": null,
   "metadata": {},
   "outputs": [],
   "source": [
    "preprocessed_img = utils.prepare_input_from_uri('http://images.cocodataset.org/test-stuff2017/000000024309.jpg').to(device)\n",
    "\n",
    "with torch.no_grad():\n",
    "    torch_prediction = resnet50(preprocessed_img)\n",
    "\n",
    "print(f'Predicted Class: {torch_prediction}')"
   ]
  },
  {
   "cell_type": "code",
   "execution_count": null,
   "metadata": {},
   "outputs": [],
   "source": [
    "target_device = pysnpe.TargetDevice(target_device_type=DeviceType.X86_64_WINDOWS)\n",
    "\n",
    "snpe_context = pysnpe.export_to_onnx(resnet50, [InputMap('img', (1, 3, 224, 224), torch.float32) ],\n",
    "                                        [\"out_class\"], \"resnet50.onnx\")\\\n",
    "                                            .to_dlc()\\\n",
    "                                            .set_target_device(target_device=target_device)\\\n",
    "                                            .visualize_dlc()\n",
    "\n",
    "input_tensor_map = {'img' : preprocessed_img.cpu().numpy()}\n",
    "transpose_order = {'img' : (0,2,3,1)}    # ==> This is needed as SNPE needs input in NHWC (channel last format)"
   ]
  },
  {
   "cell_type": "code",
   "execution_count": null,
   "metadata": {},
   "outputs": [],
   "source": [
    "# Run inference\n",
    "snpe_out = snpe_context.execute_dlc(input_tensor_map, transpose_input_order=transpose_order)"
   ]
  },
  {
   "cell_type": "code",
   "execution_count": null,
   "metadata": {},
   "outputs": [],
   "source": [
    "# Convert to Torch tensor format\n",
    "snpe_prediction = torch.from_numpy(snpe_out['out_class'])"
   ]
  }
 ],
 "metadata": {
  "kernelspec": {
   "display_name": "Python 3 (ipykernel)",
   "language": "python",
   "name": "python3"
  },
  "language_info": {
   "codemirror_mode": {
    "name": "ipython",
    "version": 3
   },
   "file_extension": ".py",
   "mimetype": "text/x-python",
   "name": "python",
   "nbconvert_exporter": "python",
   "pygments_lexer": "ipython3",
   "version": "3.11.2"
  }
 },
 "nbformat": 4,
 "nbformat_minor": 4
}
